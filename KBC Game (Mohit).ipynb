{
 "cells": [
  {
   "cell_type": "code",
   "execution_count": 11,
   "id": "3ed1877f-3d04-464c-b572-d8033efa6844",
   "metadata": {
    "jp-MarkdownHeadingCollapsed": true
   },
   "outputs": [
    {
     "name": "stdout",
     "output_type": "stream",
     "text": [
      "                                                               Welcome to the KBC Game                                                                \n"
     ]
    },
    {
     "name": "stdin",
     "output_type": "stream",
     "text": [
      "Please choose the sound language (1: Hindi, 2: English) 2\n"
     ]
    },
    {
     "name": "stdout",
     "output_type": "stream",
     "text": [
      "Q1:  Who among the following wrote Sanskrit grammar?\n",
      "\n",
      "A. Kalidasa\n",
      "B. Charak\n",
      "C. Panini\n",
      "D. Aryabhatt\n",
      "\n",
      "\n"
     ]
    },
    {
     "name": "stdin",
     "output_type": "stream",
     "text": [
      "Please choose the right option:  c\n"
     ]
    },
    {
     "name": "stdout",
     "output_type": "stream",
     "text": [
      "Right Answer\n",
      "\n",
      "English\n",
      "Q2:  The metal whose salts are sensitive to light is?\n",
      "\n",
      "A. Zinc\n",
      "B. Silver\n",
      "C. Copper\n",
      "D. Aluminum\n",
      "\n",
      "\n"
     ]
    },
    {
     "name": "stdin",
     "output_type": "stream",
     "text": [
      "Please choose the right option:  b\n"
     ]
    },
    {
     "name": "stdout",
     "output_type": "stream",
     "text": [
      "Right Answer\n",
      "\n",
      "English\n"
     ]
    },
    {
     "ename": "KeyboardInterrupt",
     "evalue": "",
     "output_type": "error",
     "traceback": [
      "\u001b[1;31m---------------------------------------------------------------------------\u001b[0m",
      "\u001b[1;31mKeyboardInterrupt\u001b[0m                         Traceback (most recent call last)",
      "Cell \u001b[1;32mIn[11], line 70\u001b[0m\n\u001b[0;32m     68\u001b[0m     file \u001b[38;5;241m=\u001b[39m pygame\u001b[38;5;241m.\u001b[39mmixer\u001b[38;5;241m.\u001b[39mSound(\u001b[38;5;124m'\u001b[39m\u001b[38;5;124mtemp.mp3\u001b[39m\u001b[38;5;124m'\u001b[39m)\n\u001b[0;32m     69\u001b[0m     file\u001b[38;5;241m.\u001b[39mplay()\n\u001b[1;32m---> 70\u001b[0m     time\u001b[38;5;241m.\u001b[39msleep(\u001b[38;5;241m10\u001b[39m)\n\u001b[0;32m     72\u001b[0m \u001b[38;5;66;03m# Wrong Answer    \u001b[39;00m\n\u001b[0;32m     73\u001b[0m \u001b[38;5;28;01melse\u001b[39;00m:\n\u001b[0;32m     74\u001b[0m     \u001b[38;5;28mprint\u001b[39m(\u001b[38;5;124m'\u001b[39m\u001b[38;5;124mWrong Answer\u001b[39m\u001b[38;5;124m'\u001b[39m,end \u001b[38;5;241m=\u001b[39m \u001b[38;5;124m\"\u001b[39m\u001b[38;5;130;01m\\n\u001b[39;00m\u001b[38;5;130;01m\\n\u001b[39;00m\u001b[38;5;124m\"\u001b[39m)\n",
      "\u001b[1;31mKeyboardInterrupt\u001b[0m: "
     ]
    }
   ],
   "source": [
    "from gtts import gTTS\n",
    "import pygame\n",
    "\n",
    "pygame.init()\n",
    "\n",
    "import time\n",
    "import random\n",
    "\n",
    "reward_won = 0\n",
    "\n",
    "Cash_Prize = [5000,10000,20000,50000,100000]\n",
    "\n",
    "Ques = ['Who among the following wrote Sanskrit grammar?',\n",
    "       'The metal whose salts are sensitive to light is?',\n",
    "       'Patanjali is well known for the compilation of –',\n",
    "       'The hottest planet in the solar system?',\n",
    "       'Golf player Vijay Singh belongs to which country?']\n",
    "\n",
    "Opts = [['Kalidasa','Charak','Panini','Aryabhatt'],\n",
    "        ['Zinc','Silver','Copper','Aluminum'],\n",
    "        ['Yoga Sutra','Panchatantra','Brahma Sutra','Ayurveda'],\n",
    "        ['Mercury','Venus','Mars','Jupiter'],\n",
    "        ['India','Fiji','UK','USA']]\n",
    "\n",
    "Ans_Key = ['C','B','A','B','B']\n",
    "idx = 0\n",
    "Sound_Right = {1:'Sahi Jawab!! Aapne {0} rupey jeete. Aapki kul dhanrashi hai: {1}',\n",
    "               2:'Correct Answer!! You won Rs. {0}. Your total earning is: {1}'}\n",
    "\n",
    "Sound_Wrong = {1:'Galat jawab!! Aap khel haar gaye hain !! Aapki kul dhanrashi hai: {reward_won}',\n",
    "               2:'Wrong Answer!! You lost the game!! Your total earning is: {reward_won}'}\n",
    "\n",
    "# Game\n",
    "\n",
    "print('Welcome to the KBC Game'.center(150,' '))\n",
    "\n",
    "lang = int(input('Please choose the sound language (1: Hindi, 2: English)'))\n",
    "\n",
    "for idx,Q in enumerate(Ques):\n",
    "    print(f\"Q{idx+1}: \",Q,end=\"\\n\\n\")\n",
    "    Data_Sound = Q\n",
    "    audio = gTTS(Data_Sound)\n",
    "    audio.save('temp.mp3')\n",
    "    file = pygame.mixer.Sound('temp.mp3')\n",
    "    file.play()\n",
    "    \n",
    "    for num, Op in zip(list('ABCD'),Opts[idx]):\n",
    "        print(f\"{num}. {Op}\")        \n",
    "    print(end='\\n\\n')\n",
    "    \n",
    "    # Right Answer\n",
    "    if input('Please choose the right option: ').upper() == Ans_Key[idx]:\n",
    "        print('Right Answer',end = \"\\n\\n\")\n",
    "        reward_won += Cash_Prize[idx]\n",
    "                \n",
    "        if lang == 1:\n",
    "            print('Hindi')\n",
    "            Sound_Right[lang] = Sound_Right[lang].format(Cash_Prize[idx],reward_won)\n",
    "            Data_Sound1 = Sound_Right[lang]\n",
    "            \n",
    "        else:\n",
    "            print('English')\n",
    "            Sound_Right[lang] = Sound_Right[lang].format(Cash_Prize[idx],reward_won)            \n",
    "            Data_Sound1 = Sound_Right[lang]\n",
    "            \n",
    "        audio = gTTS(Data_Sound1)\n",
    "        audio.save('temp.mp3')\n",
    "        file = pygame.mixer.Sound('temp.mp3')\n",
    "        file.play()\n",
    "        time.sleep(10)\n",
    "        \n",
    "    # Wrong Answer    \n",
    "    else:\n",
    "        print('Wrong Answer',end = \"\\n\\n\")\n",
    "\n",
    "        l1 = f'Galat Uttar Hai! Aapki kul dhanrashi hai {reward_won}'\n",
    "        if lang == 1:\n",
    "            Data_Sound1 = Sound_Wrong[lang]\n",
    "        else:\n",
    "            Data_Sound1 = Sound_Wrong[lang]\n",
    "            \n",
    "        Data_Sound = l1\n",
    "        audio = gTTS(Data_Sound)\n",
    "        audio.save('temp.mp3')\n",
    "        file = pygame.mixer.Sound('temp.mp3')\n",
    "        file.play()\n",
    "        time.sleep(1)        \n",
    "        break"
   ]
  },
  {
   "cell_type": "code",
   "execution_count": null,
   "id": "1b6f0352-ad4d-4fee-878b-6ccb45c42925",
   "metadata": {},
   "outputs": [],
   "source": []
  },
  {
   "cell_type": "code",
   "execution_count": 111,
   "id": "24155a4c-2589-4ba1-bf84-c73b23bcb17e",
   "metadata": {},
   "outputs": [],
   "source": [
    "Ques = ['Who among the following wrote Sanskrit grammar?',\n",
    "       'The metal whose salts are sensitive to light is?',\n",
    "       'Patanjali is well known for the compilation of –',\n",
    "       'The hottest planet in the solar system?',\n",
    "       'Golf player Vijay Singh belongs to which country?']"
   ]
  },
  {
   "cell_type": "code",
   "execution_count": 118,
   "id": "e3a55dac-90ec-4501-950c-2b081151fade",
   "metadata": {},
   "outputs": [
    {
     "data": {
      "text/plain": [
       "['Q1', 'Q2', 'Q3', 'Q4', 'Q5']"
      ]
     },
     "execution_count": 118,
     "metadata": {},
     "output_type": "execute_result"
    }
   ],
   "source": [
    "all_ids = []\n",
    "for i,j in enumerate(Ques):\n",
    "    all_ids.append(f'Q{i+1}')\n",
    "\n",
    "all_ids"
   ]
  },
  {
   "cell_type": "code",
   "execution_count": 126,
   "id": "d6fe0721-7019-41b2-989f-0b20bc26324a",
   "metadata": {},
   "outputs": [],
   "source": [
    "Q_dict = {}\n",
    "\n",
    "for idx,val in enumerate(all_ids):\n",
    "    Q_dict[val] = Ques[idx]"
   ]
  },
  {
   "cell_type": "code",
   "execution_count": 127,
   "id": "40c1cff5-71d7-4c3a-9365-0eec0416ba0a",
   "metadata": {},
   "outputs": [
    {
     "data": {
      "text/plain": [
       "{'Q1': 'Who among the following wrote Sanskrit grammar?',\n",
       " 'Q2': 'The metal whose salts are sensitive to light is?',\n",
       " 'Q3': 'Patanjali is well known for the compilation of –',\n",
       " 'Q4': 'The hottest planet in the solar system?',\n",
       " 'Q5': 'Golf player Vijay Singh belongs to which country?'}"
      ]
     },
     "execution_count": 127,
     "metadata": {},
     "output_type": "execute_result"
    }
   ],
   "source": [
    "Q_dict"
   ]
  },
  {
   "cell_type": "code",
   "execution_count": 128,
   "id": "736eccf3-8ce3-4460-959f-cbb930a151ad",
   "metadata": {},
   "outputs": [
    {
     "name": "stdout",
     "output_type": "stream",
     "text": [
      "Who among the following wrote Sanskrit grammar?\n",
      "The metal whose salts are sensitive to light is?\n",
      "Patanjali is well known for the compilation of –\n",
      "The hottest planet in the solar system?\n",
      "Golf player Vijay Singh belongs to which country?\n"
     ]
    }
   ],
   "source": [
    "\n",
    "temp_dict = Q_dict\n",
    "\n",
    "for q in Q_dict:\n",
    "    print(temp_dict[q][3])"
   ]
  },
  {
   "cell_type": "code",
   "execution_count": 258,
   "id": "73a99879-7446-4df5-8c0d-1ea1c8803166",
   "metadata": {},
   "outputs": [
    {
     "name": "stdout",
     "output_type": "stream",
     "text": [
      "['Q1', 'Q2', 'Q3', 'Q4', 'Q5']\n"
     ]
    }
   ],
   "source": [
    "tl = list(temp_dict.keys())\n",
    "\n",
    "\n",
    "print(tl)"
   ]
  },
  {
   "cell_type": "code",
   "execution_count": 328,
   "id": "91c724b6-524b-4887-ad07-a5f71ca233dd",
   "metadata": {},
   "outputs": [
    {
     "ename": "TypeError",
     "evalue": "'range' object is not callable",
     "output_type": "error",
     "traceback": [
      "\u001b[1;31m---------------------------------------------------------------------------\u001b[0m",
      "\u001b[1;31mTypeError\u001b[0m                                 Traceback (most recent call last)",
      "Cell \u001b[1;32mIn[328], line 2\u001b[0m\n\u001b[0;32m      1\u001b[0m \u001b[38;5;66;03m# okay = range(len(tl))\u001b[39;00m\n\u001b[1;32m----> 2\u001b[0m \u001b[38;5;28;01mfor\u001b[39;00m qn \u001b[38;5;129;01min\u001b[39;00m \u001b[38;5;28mrange\u001b[39m(\u001b[38;5;28mlen\u001b[39m(tl)):\n\u001b[0;32m      3\u001b[0m     to_rem \u001b[38;5;241m=\u001b[39m tl[random\u001b[38;5;241m.\u001b[39mrandint(\u001b[38;5;241m0\u001b[39m,\u001b[38;5;28mlen\u001b[39m(tl)\u001b[38;5;241m-\u001b[39m\u001b[38;5;241m1\u001b[39m)]\n\u001b[0;32m      4\u001b[0m     \u001b[38;5;28mprint\u001b[39m(\u001b[38;5;124mf\u001b[39m\u001b[38;5;124m'\u001b[39m\u001b[38;5;132;01m{\u001b[39;00mqn\u001b[38;5;241m+\u001b[39m\u001b[38;5;241m1\u001b[39m\u001b[38;5;132;01m}\u001b[39;00m\u001b[38;5;124m. \u001b[39m\u001b[38;5;132;01m{\u001b[39;00mto_rem\u001b[38;5;132;01m}\u001b[39;00m\u001b[38;5;124m'\u001b[39m)\n",
      "\u001b[1;31mTypeError\u001b[0m: 'range' object is not callable"
     ]
    }
   ],
   "source": [
    "# okay = range(len(tl))\n",
    "for qn in range(len(tl)):\n",
    "    to_rem = tl[random.randint(0,len(tl)-1)]\n",
    "    print(f'{qn+1}. {to_rem}')\n",
    "    tl.remove(to_rem)\n",
    "    "
   ]
  },
  {
   "cell_type": "code",
   "execution_count": 297,
   "id": "d4b8894f-1b9f-4d3e-aaf5-167cb6cf419c",
   "metadata": {},
   "outputs": [
    {
     "ename": "IndexError",
     "evalue": "list index out of range",
     "output_type": "error",
     "traceback": [
      "\u001b[1;31m---------------------------------------------------------------------------\u001b[0m",
      "\u001b[1;31mIndexError\u001b[0m                                Traceback (most recent call last)",
      "Cell \u001b[1;32mIn[297], line 1\u001b[0m\n\u001b[1;32m----> 1\u001b[0m to_rem \u001b[38;5;241m=\u001b[39m tl[random\u001b[38;5;241m.\u001b[39mrandint(\u001b[38;5;241m0\u001b[39m,\u001b[38;5;28mlen\u001b[39m(tl))]\n\u001b[0;32m      3\u001b[0m \u001b[38;5;28mprint\u001b[39m(to_rem)\n",
      "\u001b[1;31mIndexError\u001b[0m: list index out of range"
     ]
    }
   ],
   "source": [
    "to_rem = tl[random.randint(0,len(tl))]\n",
    "\n",
    "print(to_rem)"
   ]
  },
  {
   "cell_type": "code",
   "execution_count": 255,
   "id": "7321ca22-cb6d-43b5-95e1-132855155f7f",
   "metadata": {},
   "outputs": [
    {
     "ename": "NameError",
     "evalue": "name 't3l' is not defined",
     "output_type": "error",
     "traceback": [
      "\u001b[1;31m---------------------------------------------------------------------------\u001b[0m",
      "\u001b[1;31mNameError\u001b[0m                                 Traceback (most recent call last)",
      "Cell \u001b[1;32mIn[255], line 1\u001b[0m\n\u001b[1;32m----> 1\u001b[0m random\u001b[38;5;241m.\u001b[39mrandint(\u001b[38;5;241m0\u001b[39m,\u001b[38;5;28mlen\u001b[39m(t3l))\n",
      "\u001b[1;31mNameError\u001b[0m: name 't3l' is not defined"
     ]
    }
   ],
   "source": [
    "random.randint(0,len(tl))"
   ]
  },
  {
   "cell_type": "code",
   "execution_count": 191,
   "id": "e5730e56-b6c7-4190-b44f-12bfd6219176",
   "metadata": {},
   "outputs": [
    {
     "data": {
      "text/plain": [
       "2"
      ]
     },
     "execution_count": 191,
     "metadata": {},
     "output_type": "execute_result"
    }
   ],
   "source": [
    "random.randint(0,len(tl)+1)"
   ]
  },
  {
   "cell_type": "code",
   "execution_count": 205,
   "id": "6fcf7f5a-ac3b-445c-9afa-9912cef35c82",
   "metadata": {},
   "outputs": [
    {
     "data": {
      "text/plain": [
       "range(0, 6)"
      ]
     },
     "execution_count": 205,
     "metadata": {},
     "output_type": "execute_result"
    }
   ],
   "source": [
    "range(len(tl)+1)"
   ]
  },
  {
   "cell_type": "code",
   "execution_count": null,
   "id": "aa33324b-9471-4586-a36b-e09672138b17",
   "metadata": {},
   "outputs": [],
   "source": []
  },
  {
   "cell_type": "code",
   "execution_count": 90,
   "id": "4073ac36-003d-4e6c-8bf5-dee6ecd6540d",
   "metadata": {},
   "outputs": [
    {
     "name": "stdin",
     "output_type": "stream",
     "text": [
      "Please choose the sound language (1: Hindi, 2: English 1\n"
     ]
    },
    {
     "data": {
      "text/plain": [
       "['Aapne 20000 rupey jeete.', 'Aapki kul dhanrashi hai: 0']"
      ]
     },
     "execution_count": 90,
     "metadata": {},
     "output_type": "execute_result"
    }
   ],
   "source": [
    "lang = int(input('Please choose the sound language (1: Hindi, 2: English'))\n",
    "\n",
    "Sounds[lang]"
   ]
  },
  {
   "cell_type": "code",
   "execution_count": null,
   "id": "d4e62271-0c41-4fe1-9faa-fff3df6fd5cc",
   "metadata": {},
   "outputs": [],
   "source": []
  }
 ],
 "metadata": {
  "kernelspec": {
   "display_name": "Python 3 (ipykernel)",
   "language": "python",
   "name": "python3"
  },
  "language_info": {
   "codemirror_mode": {
    "name": "ipython",
    "version": 3
   },
   "file_extension": ".py",
   "mimetype": "text/x-python",
   "name": "python",
   "nbconvert_exporter": "python",
   "pygments_lexer": "ipython3",
   "version": "3.11.7"
  }
 },
 "nbformat": 4,
 "nbformat_minor": 5
}
