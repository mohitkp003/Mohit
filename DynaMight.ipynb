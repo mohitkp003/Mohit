{
 "cells": [
  {
   "cell_type": "markdown",
   "id": "ae4a33f6-164f-4b25-a186-7830d8d134a0",
   "metadata": {},
   "source": [
    "## **DynaMight**"
   ]
  },
  {
   "cell_type": "code",
   "execution_count": 16,
   "id": "0bfd9438-37f3-4f49-8700-afa8a8b8829f",
   "metadata": {},
   "outputs": [],
   "source": [
    "import random"
   ]
  },
  {
   "cell_type": "code",
   "execution_count": null,
   "id": "fd7bb30a-4f3a-462d-934a-c08a10235ba3",
   "metadata": {},
   "outputs": [],
   "source": [
    "# num = 12\n",
    "opts = list(range(1,num+1))\n",
    "Bomb = random.choices(range(1,num+1))[0]\n",
    "# print(Bomb)\n",
    "points = [0,1,2,4,6]\n",
    "\n",
    "score = 0\n",
    "print(\"\\n\",opts)\n",
    "while True:\n",
    "    user_choice = int(input(f'\\n\\nPlease select a number between 1 to {num}: \\n\\n'))\n",
    "\n",
    "    if (user_choice == Bomb):\n",
    "        if len(opts) != 1:\n",
    "            print('BOOOOOOM!!!!!')\n",
    "            print(f'\\nTotal Score: {score}\\n')\n",
    "            break\n",
    "        else:\n",
    "            point_gain = Bonus\n",
    "            score += point_gain\n",
    "            print(\"+\",point_gain,\"\\n\")\n",
    "            print('\\nYou Won!!!!!\\n')\n",
    "            print(f'\\nTotal Score: {score}\\n')\n",
    "            \n",
    "    else:\n",
    "        if user_choice in opts:\n",
    "            opts.remove(user_choice)\n",
    "            point_gain = random.choices(points)[0]\n",
    "            score += point_gain\n",
    "            print(\"+\",point_gain,\"\\n\")\n",
    "            print(f'\\nTotal: {score}\\n')\n",
    "            print(\"\\n\",opts)\n",
    "        else:\n",
    "            print(f\"\\n\\nplease select a number amongst {opts}\\n\")"
   ]
  },
  {
   "cell_type": "code",
   "execution_count": 52,
   "id": "7bdf39b8-7110-4344-89f9-f2f2e3cae7fc",
   "metadata": {},
   "outputs": [
    {
     "name": "stdout",
     "output_type": "stream",
     "text": [
      "['Khemraj']\n"
     ]
    }
   ],
   "source": [
    "Toss = random.choices(['Khemraj','Mohit'])\n",
    "\n",
    "print(Toss)"
   ]
  },
  {
   "cell_type": "code",
   "execution_count": null,
   "id": "857acda0-ea78-40dd-9f26-d52fc39e94ab",
   "metadata": {},
   "outputs": [],
   "source": []
  }
 ],
 "metadata": {
  "kernelspec": {
   "display_name": "Python 3 (ipykernel)",
   "language": "python",
   "name": "python3"
  },
  "language_info": {
   "codemirror_mode": {
    "name": "ipython",
    "version": 3
   },
   "file_extension": ".py",
   "mimetype": "text/x-python",
   "name": "python",
   "nbconvert_exporter": "python",
   "pygments_lexer": "ipython3",
   "version": "3.11.7"
  }
 },
 "nbformat": 4,
 "nbformat_minor": 5
}
