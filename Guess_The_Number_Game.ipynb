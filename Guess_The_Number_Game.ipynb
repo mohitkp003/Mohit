{
 "cells": [
  {
   "cell_type": "markdown",
   "id": "435f99a5-b30f-4d53-a894-fa211b91b018",
   "metadata": {},
   "source": [
    "## **Guess the Number Game**\n",
    "(with advanced features)"
   ]
  },
  {
   "cell_type": "code",
   "execution_count": 5,
   "id": "df6fec9a-c4de-44b1-9b2c-b536bb9a5817",
   "metadata": {},
   "outputs": [
    {
     "name": "stdin",
     "output_type": "stream",
     "text": [
      "Please select the game mode (1:Single Player, 2:Double Player):  2\n"
     ]
    }
   ],
   "source": [
    "# Choose Game Mode -'Single or Double Player' and 'Reset the Scores'\n",
    "\n",
    "Game_Mode = {1:'Single Player',2:'Double Player'}\n",
    "Choose_Game_Mode = int(input('Please select the game mode (1:Single Player, 2:Double Player): '))\n",
    "\n",
    "# in case of Double Player Mode\n",
    "\n",
    "No_of_round = 5\n",
    "\n",
    "P1 = 'Samurai'\n",
    "P2 = 'Ass-Destroyer'\n",
    "\n",
    "Scoreboard = {'Round':[],P1:[],P2:[]}"
   ]
  },
  {
   "cell_type": "code",
   "execution_count": 6,
   "id": "555d51fa-0154-4e89-b8ff-3a00093648a5",
   "metadata": {},
   "outputs": [
    {
     "name": "stdout",
     "output_type": "stream",
     "text": [
      "\n",
      "Game Mode: Double Player\n",
      "\n",
      "Samurai Vs Ass-Destroyer\n",
      "\n",
      "Round: 1/5\n"
     ]
    },
    {
     "name": "stdin",
     "output_type": "stream",
     "text": [
      "Please choose the level (1:Easy, 2:Medium, 3:Hard):  2\n"
     ]
    },
    {
     "name": "stdout",
     "output_type": "stream",
     "text": [
      "Game Level: Medium\n",
      "\n",
      "\n",
      "Guess the number between 1 and 50\n",
      "\n",
      "Samurai's turn\n",
      "\n"
     ]
    },
    {
     "name": "stdin",
     "output_type": "stream",
     "text": [
      "Enter your guess:  1\n"
     ]
    },
    {
     "name": "stdout",
     "output_type": "stream",
     "text": [
      "Lower\n",
      "\n",
      "Ass-Destroyer's turn\n",
      "\n"
     ]
    },
    {
     "name": "stdin",
     "output_type": "stream",
     "text": [
      "Enter your guess:  35\n"
     ]
    },
    {
     "name": "stdout",
     "output_type": "stream",
     "text": [
      "Higher\n",
      "\n",
      "Samurai's turn\n",
      "\n"
     ]
    },
    {
     "name": "stdin",
     "output_type": "stream",
     "text": [
      "Enter your guess:  7\n"
     ]
    },
    {
     "name": "stdout",
     "output_type": "stream",
     "text": [
      "Lower\n",
      "\n",
      "Ass-Destroyer's turn\n",
      "\n"
     ]
    },
    {
     "name": "stdin",
     "output_type": "stream",
     "text": [
      "Enter your guess:  25\n"
     ]
    },
    {
     "name": "stdout",
     "output_type": "stream",
     "text": [
      "Higher\n",
      "\n",
      "Samurai's turn\n",
      "\n"
     ]
    },
    {
     "name": "stdin",
     "output_type": "stream",
     "text": [
      "Enter your guess:  21\n"
     ]
    },
    {
     "name": "stdout",
     "output_type": "stream",
     "text": [
      "Higher\n",
      "\n",
      "Ass-Destroyer's turn\n",
      "\n"
     ]
    },
    {
     "name": "stdin",
     "output_type": "stream",
     "text": [
      "Enter your guess:  15\n"
     ]
    },
    {
     "name": "stdout",
     "output_type": "stream",
     "text": [
      "Lower\n",
      "\n",
      "Samurai's turn\n",
      "\n"
     ]
    },
    {
     "name": "stdin",
     "output_type": "stream",
     "text": [
      "Enter your guess:  17\n"
     ]
    },
    {
     "name": "stdout",
     "output_type": "stream",
     "text": [
      "Lower\n",
      "\n",
      "Ass-Destroyer's turn\n",
      "\n"
     ]
    },
    {
     "name": "stdin",
     "output_type": "stream",
     "text": [
      "Enter your guess:  19\n"
     ]
    },
    {
     "name": "stdout",
     "output_type": "stream",
     "text": [
      "\n",
      "Congratulations! Ass-Destroyer guessed the number in 4 attempts.\n",
      "\n",
      "\n",
      "Round  Samurai  Ass-Destroyer\n",
      "    1        0              1\n",
      "Total        0              1 \n",
      "\n",
      "Samurai's Score: 0\n",
      "Ass-Destroyer's Score: 1\n",
      "\n",
      "\n",
      "\n",
      "Round: 2/5\n"
     ]
    },
    {
     "name": "stdin",
     "output_type": "stream",
     "text": [
      "Please choose the level (1:Easy, 2:Medium, 3:Hard):  2\n"
     ]
    },
    {
     "name": "stdout",
     "output_type": "stream",
     "text": [
      "Game Level: Medium\n",
      "\n",
      "\n",
      "Guess the number between 1 and 50\n",
      "\n",
      "Samurai's turn\n",
      "\n"
     ]
    },
    {
     "name": "stdin",
     "output_type": "stream",
     "text": [
      "Enter your guess:  21\n"
     ]
    },
    {
     "name": "stdout",
     "output_type": "stream",
     "text": [
      "Lower\n",
      "\n",
      "Ass-Destroyer's turn\n",
      "\n"
     ]
    },
    {
     "name": "stdin",
     "output_type": "stream",
     "text": [
      "Enter your guess:  33\n"
     ]
    },
    {
     "name": "stdout",
     "output_type": "stream",
     "text": [
      "Lower\n",
      "\n",
      "Samurai's turn\n",
      "\n"
     ]
    },
    {
     "name": "stdin",
     "output_type": "stream",
     "text": [
      "Enter your guess:  \n"
     ]
    },
    {
     "name": "stdout",
     "output_type": "stream",
     "text": [
      "\n",
      "Invalid input. Please enter a valid number.\n",
      "\n"
     ]
    },
    {
     "name": "stdin",
     "output_type": "stream",
     "text": [
      "Enter your guess:  37\n"
     ]
    },
    {
     "name": "stdout",
     "output_type": "stream",
     "text": [
      "Lower\n",
      "\n",
      "Ass-Destroyer's turn\n",
      "\n"
     ]
    },
    {
     "name": "stdin",
     "output_type": "stream",
     "text": [
      "Enter your guess:  39\n"
     ]
    },
    {
     "name": "stdout",
     "output_type": "stream",
     "text": [
      "Lower\n",
      "\n",
      "Samurai's turn\n",
      "\n"
     ]
    },
    {
     "name": "stdin",
     "output_type": "stream",
     "text": [
      "Enter your guess:  41\n"
     ]
    },
    {
     "name": "stdout",
     "output_type": "stream",
     "text": [
      "Lower\n",
      "\n",
      "Ass-Destroyer's turn\n",
      "\n"
     ]
    },
    {
     "name": "stdin",
     "output_type": "stream",
     "text": [
      "Enter your guess:  48\n"
     ]
    },
    {
     "name": "stdout",
     "output_type": "stream",
     "text": [
      "Lower\n",
      "\n",
      "Samurai's turn\n",
      "\n"
     ]
    },
    {
     "name": "stdin",
     "output_type": "stream",
     "text": [
      "Enter your guess:  47\n"
     ]
    },
    {
     "name": "stdout",
     "output_type": "stream",
     "text": [
      "Lower\n",
      "\n",
      "Ass-Destroyer's turn\n",
      "\n"
     ]
    },
    {
     "name": "stdin",
     "output_type": "stream",
     "text": [
      "Enter your guess:  49\n"
     ]
    },
    {
     "name": "stdout",
     "output_type": "stream",
     "text": [
      "\n",
      "Congratulations! Ass-Destroyer guessed the number in 4 attempts.\n",
      "\n",
      "\n",
      "Round  Samurai  Ass-Destroyer\n",
      "    1        0              1\n",
      "    2        0              1\n",
      "Total        0              2 \n",
      "\n",
      "Samurai's Score: 0\n",
      "Ass-Destroyer's Score: 2\n",
      "\n",
      "\n",
      "\n",
      "Round: 3/5\n"
     ]
    },
    {
     "name": "stdin",
     "output_type": "stream",
     "text": [
      "Please choose the level (1:Easy, 2:Medium, 3:Hard):  2\n"
     ]
    },
    {
     "name": "stdout",
     "output_type": "stream",
     "text": [
      "Game Level: Medium\n",
      "\n",
      "\n",
      "Guess the number between 1 and 50\n",
      "\n",
      "Samurai's turn\n",
      "\n"
     ]
    },
    {
     "name": "stdin",
     "output_type": "stream",
     "text": [
      "Enter your guess:  50\n"
     ]
    },
    {
     "name": "stdout",
     "output_type": "stream",
     "text": [
      "Higher\n",
      "\n",
      "Ass-Destroyer's turn\n",
      "\n"
     ]
    },
    {
     "name": "stdin",
     "output_type": "stream",
     "text": [
      "Enter your guess:  1\n"
     ]
    },
    {
     "name": "stdout",
     "output_type": "stream",
     "text": [
      "Lower\n",
      "\n",
      "Samurai's turn\n",
      "\n"
     ]
    },
    {
     "name": "stdin",
     "output_type": "stream",
     "text": [
      "Enter your guess:  49\n"
     ]
    },
    {
     "name": "stdout",
     "output_type": "stream",
     "text": [
      "Higher\n",
      "\n",
      "Ass-Destroyer's turn\n",
      "\n"
     ]
    },
    {
     "name": "stdin",
     "output_type": "stream",
     "text": [
      "Enter your guess:  25\n"
     ]
    },
    {
     "name": "stdout",
     "output_type": "stream",
     "text": [
      "Higher\n",
      "\n",
      "Samurai's turn\n",
      "\n"
     ]
    },
    {
     "name": "stdin",
     "output_type": "stream",
     "text": [
      "Enter your guess:  21\n"
     ]
    },
    {
     "name": "stdout",
     "output_type": "stream",
     "text": [
      "Higher\n",
      "\n",
      "Ass-Destroyer's turn\n",
      "\n"
     ]
    },
    {
     "name": "stdin",
     "output_type": "stream",
     "text": [
      "Enter your guess:  15\n"
     ]
    },
    {
     "name": "stdout",
     "output_type": "stream",
     "text": [
      "Lower\n",
      "\n",
      "Samurai's turn\n",
      "\n"
     ]
    },
    {
     "name": "stdin",
     "output_type": "stream",
     "text": [
      "Enter your guess:  16\n"
     ]
    },
    {
     "name": "stdout",
     "output_type": "stream",
     "text": [
      "Lower\n",
      "\n",
      "Ass-Destroyer's turn\n",
      "\n"
     ]
    },
    {
     "name": "stdin",
     "output_type": "stream",
     "text": [
      "Enter your guess:  17\n"
     ]
    },
    {
     "name": "stdout",
     "output_type": "stream",
     "text": [
      "Lower\n",
      "\n",
      "Samurai's turn\n",
      "\n"
     ]
    },
    {
     "name": "stdin",
     "output_type": "stream",
     "text": [
      "Enter your guess:  19\n"
     ]
    },
    {
     "name": "stdout",
     "output_type": "stream",
     "text": [
      "Higher\n",
      "\n",
      "Ass-Destroyer's turn\n",
      "\n"
     ]
    },
    {
     "name": "stdin",
     "output_type": "stream",
     "text": [
      "Enter your guess:  18\n"
     ]
    },
    {
     "name": "stdout",
     "output_type": "stream",
     "text": [
      "\n",
      "Congratulations! Ass-Destroyer guessed the number in 5 attempts.\n",
      "\n",
      "\n",
      "Round  Samurai  Ass-Destroyer\n",
      "    1        0              1\n",
      "    2        0              1\n",
      "    3        0              1\n",
      "Total        0              3 \n",
      "\n",
      "Samurai's Score: 0\n",
      "Ass-Destroyer's Score: 3\n",
      "\n",
      "\n",
      "\n",
      "Round: 4/5\n"
     ]
    },
    {
     "name": "stdin",
     "output_type": "stream",
     "text": [
      "Please choose the level (1:Easy, 2:Medium, 3:Hard):  2\n"
     ]
    },
    {
     "name": "stdout",
     "output_type": "stream",
     "text": [
      "Game Level: Medium\n",
      "\n",
      "\n",
      "Guess the number between 1 and 50\n",
      "\n",
      "Samurai's turn\n",
      "\n"
     ]
    },
    {
     "name": "stdin",
     "output_type": "stream",
     "text": [
      "Enter your guess:  3\n"
     ]
    },
    {
     "name": "stdout",
     "output_type": "stream",
     "text": [
      "Lower\n",
      "\n",
      "Ass-Destroyer's turn\n",
      "\n"
     ]
    },
    {
     "name": "stdin",
     "output_type": "stream",
     "text": [
      "Enter your guess:  7\n"
     ]
    },
    {
     "name": "stdout",
     "output_type": "stream",
     "text": [
      "Higher\n",
      "\n",
      "Samurai's turn\n",
      "\n"
     ]
    },
    {
     "name": "stdin",
     "output_type": "stream",
     "text": [
      "Enter your guess:  5\n"
     ]
    },
    {
     "name": "stdout",
     "output_type": "stream",
     "text": [
      "Lower\n",
      "\n",
      "Ass-Destroyer's turn\n",
      "\n"
     ]
    },
    {
     "name": "stdin",
     "output_type": "stream",
     "text": [
      "Enter your guess:  6\n"
     ]
    },
    {
     "name": "stdout",
     "output_type": "stream",
     "text": [
      "\n",
      "Congratulations! Ass-Destroyer guessed the number in 2 attempts.\n",
      "\n",
      "\n",
      "Round  Samurai  Ass-Destroyer\n",
      "    1        0              1\n",
      "    2        0              1\n",
      "    3        0              1\n",
      "    4        0              1\n",
      "Total        0              4 \n",
      "\n",
      "Samurai's Score: 0\n",
      "Ass-Destroyer's Score: 4\n",
      "\n",
      "\n",
      "\n",
      "Round: 5/5\n"
     ]
    },
    {
     "name": "stdin",
     "output_type": "stream",
     "text": [
      "Please choose the level (1:Easy, 2:Medium, 3:Hard):  2\n"
     ]
    },
    {
     "name": "stdout",
     "output_type": "stream",
     "text": [
      "Game Level: Medium\n",
      "\n",
      "\n",
      "Guess the number between 1 and 50\n",
      "\n",
      "Samurai's turn\n",
      "\n"
     ]
    },
    {
     "name": "stdin",
     "output_type": "stream",
     "text": [
      "Enter your guess:  19\n"
     ]
    },
    {
     "name": "stdout",
     "output_type": "stream",
     "text": [
      "Lower\n",
      "\n",
      "Ass-Destroyer's turn\n",
      "\n"
     ]
    },
    {
     "name": "stdin",
     "output_type": "stream",
     "text": [
      "Enter your guess:  21\n"
     ]
    },
    {
     "name": "stdout",
     "output_type": "stream",
     "text": [
      "Lower\n",
      "\n",
      "Samurai's turn\n",
      "\n"
     ]
    },
    {
     "name": "stdin",
     "output_type": "stream",
     "text": [
      "Enter your guess:  23\n"
     ]
    },
    {
     "name": "stdout",
     "output_type": "stream",
     "text": [
      "Lower\n",
      "\n",
      "Ass-Destroyer's turn\n",
      "\n"
     ]
    },
    {
     "name": "stdin",
     "output_type": "stream",
     "text": [
      "Enter your guess:  30\n"
     ]
    },
    {
     "name": "stdout",
     "output_type": "stream",
     "text": [
      "Lower\n",
      "\n",
      "Samurai's turn\n",
      "\n"
     ]
    },
    {
     "name": "stdin",
     "output_type": "stream",
     "text": [
      "Enter your guess:  32\n"
     ]
    },
    {
     "name": "stdout",
     "output_type": "stream",
     "text": [
      "Lower\n",
      "\n",
      "Ass-Destroyer's turn\n",
      "\n"
     ]
    },
    {
     "name": "stdin",
     "output_type": "stream",
     "text": [
      "Enter your guess:  40\n"
     ]
    },
    {
     "name": "stdout",
     "output_type": "stream",
     "text": [
      "Lower\n",
      "\n",
      "Samurai's turn\n",
      "\n"
     ]
    },
    {
     "name": "stdin",
     "output_type": "stream",
     "text": [
      "Enter your guess:  44\n"
     ]
    },
    {
     "name": "stdout",
     "output_type": "stream",
     "text": [
      "Lower\n",
      "\n",
      "Ass-Destroyer's turn\n",
      "\n"
     ]
    },
    {
     "name": "stdin",
     "output_type": "stream",
     "text": [
      "Enter your guess:  49\n"
     ]
    },
    {
     "name": "stdout",
     "output_type": "stream",
     "text": [
      "Lower\n",
      "\n",
      "Samurai's turn\n",
      "\n"
     ]
    },
    {
     "name": "stdin",
     "output_type": "stream",
     "text": [
      "Enter your guess:  50\n"
     ]
    },
    {
     "name": "stdout",
     "output_type": "stream",
     "text": [
      "Congratulations! Samurai guessed the number in 5 attempts.\n",
      "\n",
      "\n",
      "Round  Samurai  Ass-Destroyer\n",
      "    1        0              1\n",
      "    2        0              1\n",
      "    3        0              1\n",
      "    4        0              1\n",
      "    5        1              0\n",
      "Total        1              4 \n",
      "\n",
      "Samurai's Score: 1\n",
      "Ass-Destroyer's Score: 4\n",
      "\n",
      "\n",
      "Ass-Destroyer Won the Game by 3 Points!!\n",
      "\n"
     ]
    },
    {
     "name": "stdin",
     "output_type": "stream",
     "text": [
      "Do you want to download the Score-Card (Yes / No) ?  no\n"
     ]
    },
    {
     "name": "stdout",
     "output_type": "stream",
     "text": [
      "\n",
      "\n",
      "Thank You for playing!!!\n"
     ]
    }
   ],
   "source": [
    "# Game\n",
    "\n",
    "import random\n",
    "import pandas as pd\n",
    "\n",
    "if Choose_Game_Mode == 2:\n",
    "    print(f\"\\nGame Mode: {Game_Mode[Choose_Game_Mode]}\")\n",
    "    print(f\"\\n{P1} Vs {P2}\")\n",
    "    for round in range(No_of_round):\n",
    "        \n",
    "        print(f\"\\nRound: {round + 1}/{No_of_round}\")\n",
    "        Choose_Level = int(input(\"Please choose the level (1:Easy, 2:Medium, 3:Hard): \"))\n",
    "        Level_Name = {1:'Easy',2:'Medium',3:'Hard'}\n",
    "        Level = {1:10,2:50,3:100}\n",
    "        number_to_guess = random.randint(1,Level[Choose_Level])\n",
    "        \n",
    "        P1_Attempt = 0\n",
    "        P2_Attempt = 0\n",
    "        \n",
    "        print(f\"Game Level: {Level_Name[Choose_Level]}\\n\")\n",
    "        \n",
    "        print(f\"\\nGuess the number between 1 and {Level[Choose_Level]}\")\n",
    "        \n",
    "        for i in range(1000):\n",
    "            \n",
    "            # Player 1's Turn\n",
    "            if i % 2 == 0:\n",
    "                print(f\"\\n{P1}'s turn\\n\")\n",
    "                \n",
    "                while True:\n",
    "                    try:\n",
    "                        guess = int(input(\"Enter your guess: \"))\n",
    "                        if 1 <= guess <= Level[Choose_Level]:\n",
    "                            break                            \n",
    "                        else:\n",
    "                            print(f\"\\nPlease select a number between 1 to {Level[Choose_Level]}\\n\")\n",
    "                    except ValueError:\n",
    "                        print(\"\\nInvalid input. Please enter a valid number.\\n\")\n",
    "                    \n",
    "                P1_Attempt += 1\n",
    "            \n",
    "                if guess < number_to_guess:\n",
    "                    print(\"Lower\")\n",
    "                elif guess > number_to_guess:\n",
    "                    print(\"Higher\")\n",
    "                else:\n",
    "                    print(f\"Congratulations! {P1} guessed the number in {P1_Attempt} attempts.\\n\\n\") \n",
    "                    Scoreboard['Round'].append(len(Scoreboard['Round'])+1)\n",
    "                    Scoreboard[P1].append(1)\n",
    "                    Scoreboard[P2].append(0)\n",
    "                    result = pd.DataFrame(Scoreboard)\n",
    "                    P1_Score = sum(Scoreboard[P1])\n",
    "                    P2_Score = sum(Scoreboard[P2])\n",
    "                    result.loc[len(result)] = ['Total',P1_Score,P2_Score]  \n",
    "                    print(result.to_string(index = False),\"\\n\")\n",
    "                    print(f\"{P1}'s Score: {P1_Score}\")\n",
    "                    print(f\"{P2}'s Score: {P2_Score}\\n\\n\")              \n",
    "                    break\n",
    "                                        \n",
    "            else:\n",
    "                # Player 2's Turn\n",
    "                print(f\"\\n{P2}'s turn\\n\")\n",
    "                \n",
    "                \n",
    "                while True:\n",
    "                    try:\n",
    "                        guess = int(input(\"Enter your guess: \"))\n",
    "                        if 1 <= guess <= Level[Choose_Level]:\n",
    "                            break\n",
    "                        else:\n",
    "                            print(f\"Please select a number between 1 to {Level[Choose_Level]}\\n\")\n",
    "                    except ValueError:\n",
    "                        print(\"\\nInvalid input. Please enter a valid number.\\n\")\n",
    "                P2_Attempt += 1\n",
    "                \n",
    "                if guess < number_to_guess:\n",
    "                    print(\"Lower\")\n",
    "                elif guess > number_to_guess:\n",
    "                    print(\"Higher\")\n",
    "                else:\n",
    "                    print(f\"\\nCongratulations! {P2} guessed the number in {P2_Attempt} attempts.\\n\\n\")\n",
    "                    Scoreboard['Round'].append(len(Scoreboard['Round'])+1)\n",
    "                    Scoreboard[P1].append(0)\n",
    "                    Scoreboard[P2].append(1)\n",
    "                    result = pd.DataFrame(Scoreboard)\n",
    "                    P1_Score = sum(Scoreboard[P1])\n",
    "                    P2_Score = sum(Scoreboard[P2])\n",
    "                    result.loc[len(result)] = ['Total',P1_Score,P2_Score]\n",
    "                    print(result.to_string(index = False),\"\\n\")\n",
    "                    print(f\"{P1}'s Score: {P1_Score}\")\n",
    "                    print(f\"{P2}'s Score: {P2_Score}\\n\\n\")\n",
    "                    break\n",
    "                  \n",
    "    else:\n",
    "        if P1_Score == P2_Score:\n",
    "            print(\"Match Tied!\\n\")\n",
    "        else:    \n",
    "            print(f\"{P1 if P1_Score>P2_Score else P2} Won the Game by {(P1_Score - P2_Score) if P1_Score>P2_Score else (P2_Score - P1_Score)} Points!!\\n\")\n",
    "        if input(\"Do you want to download the Score-Card (Yes / No) ? \").lower() == 'yes':\n",
    "            result.to_csv('result.csv',index = False)\n",
    "            print(\"\\nDownload Complete!\")\n",
    "        else:\n",
    "            print('\\n\\nThank You for playing!!!')\n",
    "            \n",
    "\n",
    "elif Choose_Game_Mode == 1:\n",
    "    print(f\"\\nGame Mode: {Game_Mode[Choose_Game_Mode]}\")       \n",
    "    Choose_Level = int(input(\"Please choose the level (1:Easy, 2:Medium, 3:Hard): \"))\n",
    "    Level_Name = {1:'Easy',2:'Medium',3:'Hard'}\n",
    "    Level = {1:10,2:50,3:100}\n",
    "    number_to_guess = random.randint(1,Level[Choose_Level])\n",
    "    \n",
    "    P1_Attempt = 0\n",
    "    P2_Attempt = 0\n",
    "    \n",
    "    print(f\"Game Level: {Level_Name[Choose_Level]}\\n\")\n",
    "    \n",
    "    print(f\"\\nGuess the number between 1 and {Level[Choose_Level]}\")\n",
    "    \n",
    "    Attempt = 0\n",
    "    while True:\n",
    "        guess = int(input(\"Enter your guess: \"))\n",
    "        Attempt += 1\n",
    "        if guess < number_to_guess:\n",
    "            print(\"Lower\")\n",
    "        elif guess > number_to_guess:\n",
    "            print(\"Higher\")\n",
    "        else:\n",
    "            print(f\"Congratulations! You've guessed the number in {Attempt} attempts.\\n\\n\")\n",
    "            break\n",
    "else:\n",
    "    print(\"You chose the wrong option for Game Mode, please try again.\")\n",
    "\n"
   ]
  },
  {
   "cell_type": "code",
   "execution_count": null,
   "id": "8a929581-8455-4ce7-828a-33daf19f2770",
   "metadata": {},
   "outputs": [],
   "source": []
  },
  {
   "cell_type": "code",
   "execution_count": null,
   "id": "7b10c6b3-7334-4f25-96c4-ff20cbbe184d",
   "metadata": {},
   "outputs": [],
   "source": []
  },
  {
   "cell_type": "code",
   "execution_count": null,
   "id": "286fd73e-c870-48cb-b09b-9031b42effd6",
   "metadata": {},
   "outputs": [],
   "source": []
  },
  {
   "cell_type": "code",
   "execution_count": null,
   "id": "ec272cbc-4667-4e1d-b19f-b5562f47e316",
   "metadata": {},
   "outputs": [],
   "source": []
  },
  {
   "cell_type": "code",
   "execution_count": null,
   "id": "f8c782a3-dcbf-419f-9380-4b4cd7675bc6",
   "metadata": {},
   "outputs": [],
   "source": []
  }
 ],
 "metadata": {
  "kernelspec": {
   "display_name": "Python 3 (ipykernel)",
   "language": "python",
   "name": "python3"
  },
  "language_info": {
   "codemirror_mode": {
    "name": "ipython",
    "version": 3
   },
   "file_extension": ".py",
   "mimetype": "text/x-python",
   "name": "python",
   "nbconvert_exporter": "python",
   "pygments_lexer": "ipython3",
   "version": "3.11.7"
  }
 },
 "nbformat": 4,
 "nbformat_minor": 5
}
